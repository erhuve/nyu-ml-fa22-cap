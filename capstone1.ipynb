{
  "cells": [
    {
      "cell_type": "code",
      "execution_count": 1,
      "metadata": {
        "id": "QmqaYA08H7CT"
      },
      "outputs": [],
      "source": [
        "import os\n",
        "import cv2\n",
        "import pickle as pkl\n",
        "import numpy as np\n",
        "import pandas as pd\n",
        "import torch\n",
        "import torch.nn as nn\n",
        "from torch.utils.data import Dataset, DataLoader\n",
        "from torchvision import datasets, transforms\n",
        "from torchvision.transforms import ToTensor\n",
        "from torchvision.models import resnet50, ResNet50_Weights"
      ]
    },
    {
      "cell_type": "code",
      "execution_count": 2,
      "metadata": {
        "colab": {
          "base_uri": "https://localhost:8080/"
        },
        "id": "GvPY3R5ZIOtJ",
        "outputId": "620663b8-2200-4940-d825-3744f9dadb93"
      },
      "outputs": [
        {
          "output_type": "stream",
          "name": "stdout",
          "text": [
            "Mounted at /content/gdrive/\n"
          ]
        }
      ],
      "source": [
        "from google.colab import drive\n",
        "\n",
        "drive.mount('/content/gdrive/', force_remount=True)"
      ]
    },
    {
      "cell_type": "code",
      "execution_count": 12,
      "metadata": {
        "id": "89__HFQuN9Dn"
      },
      "outputs": [],
      "source": [
        "class LazyLoadDataset(Dataset):\n",
        "  def __init__(self, path, train=True, transform=None):\n",
        "    self.transform = transform\n",
        "    self.train = train\n",
        "    path = path + ('train/' if train else 'test/')\n",
        "\n",
        "    self.pathX = path + 'X/'\n",
        "    self.pathY = path + 'Y/'\n",
        "    self.data = os.listdir(self.pathX)\n",
        "\n",
        "  def __getitem__(self, idx):\n",
        "    f = self.data[idx]\n",
        "\n",
        "    img0 = cv2.imread(self.pathX + f + '/rgb/0.png')\n",
        "    img1 = cv2.imread(self.pathX + f + '/rgb/1.png')\n",
        "    img2 = cv2.imread(self.pathX + f + '/rgb/2.png')\n",
        "\n",
        "    if self.transform:\n",
        "      img0 = self.transform(img0)\n",
        "      img1 = self.transform(img1)\n",
        "      img2 = self.transform(img2)\n",
        "\n",
        "    img0 = img0.reshape(3,224,224)\n",
        "    img1 = img1.reshape(3,224,224)\n",
        "    img2 = img2.reshape(3,224,224)\n",
        "\n",
        "    depth = np.load(self.pathX + f + '/depth.npy')\n",
        "    field_id = pkl.load(open(self.pathX + f + '/field_id.pkl', 'rb'))\n",
        "    if self.train:\n",
        "      Y = np.load(self.pathY + f + '.npy')\n",
        "      return (img0.astype(np.float32), img1.astype(np.float32), img2.astype(np.float32), depth.astype(np.float32), field_id), Y.astype(np.float32)\n",
        "    return (img0.astype(np.float32), img1.astype(np.float32), img2.astype(np.float32), depth.astype(np.float32), field_id)\n",
        "\n",
        "\n",
        "  def __len__(self):\n",
        "    return len(self.data)"
      ]
    },
    {
      "cell_type": "code",
      "execution_count": 4,
      "metadata": {
        "id": "ACPWou1UI9qB"
      },
      "outputs": [],
      "source": [
        "num_epochs = 10\n",
        "learning_rate = 0.001\n",
        "batch_size = 64\n",
        "num_classes = 12"
      ]
    },
    {
      "cell_type": "code",
      "execution_count": 5,
      "metadata": {
        "id": "LiWyVZyqId4P",
        "colab": {
          "base_uri": "https://localhost:8080/",
          "height": 67,
          "referenced_widgets": [
            "c3e5d6a93e4d49059e5e1b525756df7a",
            "241afa07e96d4554a2a63be2a8dfaf92",
            "eb1b70ed8a664399a42030d3d2ed604f",
            "68b111f5a2b142f9bbdc6cc51bcf8ecc",
            "6a39638c0d5d423b898f7e7024eb146d",
            "61ddd4b883364e79a1381c510ccb5606",
            "15ba4781147d4c278ab56a4aa08c85cb",
            "964892ed7ce4415e8839c52cc5f0e39c",
            "e475c6a444d94fc0a51fe4dd4bbb1f65",
            "7dd439a15d53420baba74c6e3874d750",
            "d071700fd8174685a536d9e904aebe03"
          ]
        },
        "outputId": "f12d0273-660c-4fed-85df-e00761c62154"
      },
      "outputs": [
        {
          "output_type": "stream",
          "name": "stderr",
          "text": [
            "Downloading: \"https://download.pytorch.org/models/resnet50-11ad3fa6.pth\" to /root/.cache/torch/hub/checkpoints/resnet50-11ad3fa6.pth\n"
          ]
        },
        {
          "output_type": "display_data",
          "data": {
            "text/plain": [
              "  0%|          | 0.00/97.8M [00:00<?, ?B/s]"
            ],
            "application/vnd.jupyter.widget-view+json": {
              "version_major": 2,
              "version_minor": 0,
              "model_id": "c3e5d6a93e4d49059e5e1b525756df7a"
            }
          },
          "metadata": {}
        }
      ],
      "source": [
        "weights = ResNet50_Weights.DEFAULT\n",
        "model = resnet50(weights=weights)\n",
        "model.fc = nn.Linear(2048, num_classes) # change fc for our data"
      ]
    },
    {
      "cell_type": "code",
      "execution_count": 6,
      "metadata": {
        "id": "_klrgxiWVvCu"
      },
      "outputs": [],
      "source": [
        "loss_fn = nn.MSELoss()\n",
        "optimizer = torch.optim.Adam(model.parameters(), lr=learning_rate)"
      ]
    },
    {
      "cell_type": "code",
      "execution_count": 7,
      "metadata": {
        "id": "mdooPnMoIS3p"
      },
      "outputs": [],
      "source": [
        "weights = ResNet50_Weights.DEFAULT\n",
        "preprocess = weights.transforms()"
      ]
    },
    {
      "cell_type": "code",
      "execution_count": 13,
      "metadata": {
        "colab": {
          "base_uri": "https://localhost:8080/"
        },
        "id": "lsiGTCtPWAHn",
        "outputId": "816ed4e1-f79d-457b-c912-61446c0be5af"
      },
      "outputs": [
        {
          "output_type": "stream",
          "name": "stdout",
          "text": [
            "3396\n"
          ]
        }
      ],
      "source": [
        "dataset = LazyLoadDataset('gdrive/MyDrive/ml_capstone/lazydata/')\n",
        "print(len(dataset))"
      ]
    },
    {
      "cell_type": "code",
      "execution_count": 14,
      "metadata": {
        "id": "yJt0vUb5qkFU"
      },
      "outputs": [],
      "source": [
        "train_dataloader = DataLoader(dataset, batch_size=batch_size, shuffle=True)"
      ]
    },
    {
      "cell_type": "code",
      "execution_count": 21,
      "metadata": {
        "id": "-XS7OvLqV0SJ"
      },
      "outputs": [],
      "source": [
        "def train():\n",
        "  model.train()\n",
        "  for batch, (X, y) in enumerate(train_dataloader):\n",
        "\n",
        "    size = len(train_dataloader.dataset)\n",
        "\n",
        "    X = torch.stack(X[:3])\n",
        "\n",
        "    pred = model(X[0,:,:])\n",
        "\n",
        "    loss = loss_fn(pred, y)\n",
        "\n",
        "    optimizer.zero_grad()\n",
        "    loss.backward()\n",
        "    optimizer.step()\n",
        "    \n",
        "    current = batch*len(X)\n",
        "    if current % 283 == 0: # 12, actually did the wrong number so i only saw 0/ lol\n",
        "      loss = loss.item()\n",
        "      print(f'loss: {loss:>7f} [{current:>5d}/{size:>5d}]')\n"
      ]
    },
    {
      "cell_type": "code",
      "execution_count": 22,
      "metadata": {
        "colab": {
          "base_uri": "https://localhost:8080/"
        },
        "id": "wB2WycPJ4TXe",
        "outputId": "17d79193-b974-435c-fde0-b3d506ecca81"
      },
      "outputs": [
        {
          "output_type": "stream",
          "name": "stdout",
          "text": [
            "Epoch 1\n",
            "---------------------------\n",
            "loss: 0.000446 [    0/ 3396]\n"
          ]
        }
      ],
      "source": [
        "num_epochs = 1\n",
        "for i in range(num_epochs):\n",
        "  print(f'Epoch {i+1}\\n---------------------------')\n",
        "  train()"
      ]
    },
    {
      "cell_type": "code",
      "execution_count": 23,
      "metadata": {
        "id": "e0EfAf1Lj2jQ"
      },
      "outputs": [],
      "source": [
        "test_dataset = LazyLoadDataset('gdrive/MyDrive/ml_capstone/lazydata/', train=False)\n",
        "test_dataloader = DataLoader(test_dataset, batch_size=batch_size, shuffle=True)"
      ]
    },
    {
      "cell_type": "code",
      "execution_count": 25,
      "metadata": {
        "id": "A0ia6WC6zNQG"
      },
      "outputs": [],
      "source": [
        "# with torch.no_grad():\n",
        "#     for X in test_dataloader:\n",
        "#       print(X[-1])\n",
        "#       print(len(X[-1]))\n",
        "#       break"
      ]
    },
    {
      "cell_type": "code",
      "execution_count": 26,
      "metadata": {
        "colab": {
          "base_uri": "https://localhost:8080/"
        },
        "id": "FNSg4swgjV8u",
        "outputId": "43b2015f-9561-4ea3-e0dd-29a0cc46e089"
      },
      "outputs": [
        {
          "output_type": "stream",
          "name": "stdout",
          "text": [
            "Written to csv file gdrive/MyDrive/ml_capstone/submission1.csv\n"
          ]
        }
      ],
      "source": [
        "outfile = 'gdrive/MyDrive/ml_capstone/submission1.csv'\n",
        "\n",
        "output_file = open(outfile, 'w')\n",
        "\n",
        "titles = ['ID', 'FINGER_POS_1', 'FINGER_POS_2', 'FINGER_POS_3', 'FINGER_POS_4', 'FINGER_POS_5', 'FINGER_POS_6',\n",
        "         'FINGER_POS_7', 'FINGER_POS_8', 'FINGER_POS_9', 'FINGER_POS_10', 'FINGER_POS_11', 'FINGER_POS_12']\n",
        "preds = []\n",
        "file_ids = []\n",
        "\n",
        "model.eval()\n",
        "\n",
        "with torch.no_grad():\n",
        "    for X in test_dataloader:\n",
        "      file_ids += X[-1]\n",
        "      X = torch.stack(X[:3])\n",
        "      try:\n",
        "        pred = model(X[0,:,:].reshape((64,3,224,224)))\n",
        "      except:\n",
        "        pred = model(X[0,:,:].reshape((17,3,224,224)))\n",
        "      # print(pred)\n",
        "      for inp in pred:\n",
        "        preds.append(inp.cpu().detach().numpy())\n",
        "      \n",
        "# print(preds)\n",
        "df = pd.concat([pd.DataFrame(file_ids), pd.DataFrame.from_records(preds)], axis = 1, names = titles)\n",
        "df.columns = titles\n",
        "df.to_csv(outfile, index = False)\n",
        "print(\"Written to csv file {}\".format(outfile))\n"
      ]
    },
    {
      "cell_type": "code",
      "execution_count": null,
      "metadata": {
        "id": "ZGT4hTqnVktb"
      },
      "outputs": [],
      "source": []
    }
  ],
  "metadata": {
    "colab": {
      "provenance": []
    },
    "kernelspec": {
      "display_name": "Python 3",
      "name": "python3"
    },
    "language_info": {
      "name": "python"
    },
    "widgets": {
      "application/vnd.jupyter.widget-state+json": {
        "c3e5d6a93e4d49059e5e1b525756df7a": {
          "model_module": "@jupyter-widgets/controls",
          "model_name": "HBoxModel",
          "model_module_version": "1.5.0",
          "state": {
            "_dom_classes": [],
            "_model_module": "@jupyter-widgets/controls",
            "_model_module_version": "1.5.0",
            "_model_name": "HBoxModel",
            "_view_count": null,
            "_view_module": "@jupyter-widgets/controls",
            "_view_module_version": "1.5.0",
            "_view_name": "HBoxView",
            "box_style": "",
            "children": [
              "IPY_MODEL_241afa07e96d4554a2a63be2a8dfaf92",
              "IPY_MODEL_eb1b70ed8a664399a42030d3d2ed604f",
              "IPY_MODEL_68b111f5a2b142f9bbdc6cc51bcf8ecc"
            ],
            "layout": "IPY_MODEL_6a39638c0d5d423b898f7e7024eb146d"
          }
        },
        "241afa07e96d4554a2a63be2a8dfaf92": {
          "model_module": "@jupyter-widgets/controls",
          "model_name": "HTMLModel",
          "model_module_version": "1.5.0",
          "state": {
            "_dom_classes": [],
            "_model_module": "@jupyter-widgets/controls",
            "_model_module_version": "1.5.0",
            "_model_name": "HTMLModel",
            "_view_count": null,
            "_view_module": "@jupyter-widgets/controls",
            "_view_module_version": "1.5.0",
            "_view_name": "HTMLView",
            "description": "",
            "description_tooltip": null,
            "layout": "IPY_MODEL_61ddd4b883364e79a1381c510ccb5606",
            "placeholder": "​",
            "style": "IPY_MODEL_15ba4781147d4c278ab56a4aa08c85cb",
            "value": "100%"
          }
        },
        "eb1b70ed8a664399a42030d3d2ed604f": {
          "model_module": "@jupyter-widgets/controls",
          "model_name": "FloatProgressModel",
          "model_module_version": "1.5.0",
          "state": {
            "_dom_classes": [],
            "_model_module": "@jupyter-widgets/controls",
            "_model_module_version": "1.5.0",
            "_model_name": "FloatProgressModel",
            "_view_count": null,
            "_view_module": "@jupyter-widgets/controls",
            "_view_module_version": "1.5.0",
            "_view_name": "ProgressView",
            "bar_style": "success",
            "description": "",
            "description_tooltip": null,
            "layout": "IPY_MODEL_964892ed7ce4415e8839c52cc5f0e39c",
            "max": 102540417,
            "min": 0,
            "orientation": "horizontal",
            "style": "IPY_MODEL_e475c6a444d94fc0a51fe4dd4bbb1f65",
            "value": 102540417
          }
        },
        "68b111f5a2b142f9bbdc6cc51bcf8ecc": {
          "model_module": "@jupyter-widgets/controls",
          "model_name": "HTMLModel",
          "model_module_version": "1.5.0",
          "state": {
            "_dom_classes": [],
            "_model_module": "@jupyter-widgets/controls",
            "_model_module_version": "1.5.0",
            "_model_name": "HTMLModel",
            "_view_count": null,
            "_view_module": "@jupyter-widgets/controls",
            "_view_module_version": "1.5.0",
            "_view_name": "HTMLView",
            "description": "",
            "description_tooltip": null,
            "layout": "IPY_MODEL_7dd439a15d53420baba74c6e3874d750",
            "placeholder": "​",
            "style": "IPY_MODEL_d071700fd8174685a536d9e904aebe03",
            "value": " 97.8M/97.8M [00:00&lt;00:00, 138MB/s]"
          }
        },
        "6a39638c0d5d423b898f7e7024eb146d": {
          "model_module": "@jupyter-widgets/base",
          "model_name": "LayoutModel",
          "model_module_version": "1.2.0",
          "state": {
            "_model_module": "@jupyter-widgets/base",
            "_model_module_version": "1.2.0",
            "_model_name": "LayoutModel",
            "_view_count": null,
            "_view_module": "@jupyter-widgets/base",
            "_view_module_version": "1.2.0",
            "_view_name": "LayoutView",
            "align_content": null,
            "align_items": null,
            "align_self": null,
            "border": null,
            "bottom": null,
            "display": null,
            "flex": null,
            "flex_flow": null,
            "grid_area": null,
            "grid_auto_columns": null,
            "grid_auto_flow": null,
            "grid_auto_rows": null,
            "grid_column": null,
            "grid_gap": null,
            "grid_row": null,
            "grid_template_areas": null,
            "grid_template_columns": null,
            "grid_template_rows": null,
            "height": null,
            "justify_content": null,
            "justify_items": null,
            "left": null,
            "margin": null,
            "max_height": null,
            "max_width": null,
            "min_height": null,
            "min_width": null,
            "object_fit": null,
            "object_position": null,
            "order": null,
            "overflow": null,
            "overflow_x": null,
            "overflow_y": null,
            "padding": null,
            "right": null,
            "top": null,
            "visibility": null,
            "width": null
          }
        },
        "61ddd4b883364e79a1381c510ccb5606": {
          "model_module": "@jupyter-widgets/base",
          "model_name": "LayoutModel",
          "model_module_version": "1.2.0",
          "state": {
            "_model_module": "@jupyter-widgets/base",
            "_model_module_version": "1.2.0",
            "_model_name": "LayoutModel",
            "_view_count": null,
            "_view_module": "@jupyter-widgets/base",
            "_view_module_version": "1.2.0",
            "_view_name": "LayoutView",
            "align_content": null,
            "align_items": null,
            "align_self": null,
            "border": null,
            "bottom": null,
            "display": null,
            "flex": null,
            "flex_flow": null,
            "grid_area": null,
            "grid_auto_columns": null,
            "grid_auto_flow": null,
            "grid_auto_rows": null,
            "grid_column": null,
            "grid_gap": null,
            "grid_row": null,
            "grid_template_areas": null,
            "grid_template_columns": null,
            "grid_template_rows": null,
            "height": null,
            "justify_content": null,
            "justify_items": null,
            "left": null,
            "margin": null,
            "max_height": null,
            "max_width": null,
            "min_height": null,
            "min_width": null,
            "object_fit": null,
            "object_position": null,
            "order": null,
            "overflow": null,
            "overflow_x": null,
            "overflow_y": null,
            "padding": null,
            "right": null,
            "top": null,
            "visibility": null,
            "width": null
          }
        },
        "15ba4781147d4c278ab56a4aa08c85cb": {
          "model_module": "@jupyter-widgets/controls",
          "model_name": "DescriptionStyleModel",
          "model_module_version": "1.5.0",
          "state": {
            "_model_module": "@jupyter-widgets/controls",
            "_model_module_version": "1.5.0",
            "_model_name": "DescriptionStyleModel",
            "_view_count": null,
            "_view_module": "@jupyter-widgets/base",
            "_view_module_version": "1.2.0",
            "_view_name": "StyleView",
            "description_width": ""
          }
        },
        "964892ed7ce4415e8839c52cc5f0e39c": {
          "model_module": "@jupyter-widgets/base",
          "model_name": "LayoutModel",
          "model_module_version": "1.2.0",
          "state": {
            "_model_module": "@jupyter-widgets/base",
            "_model_module_version": "1.2.0",
            "_model_name": "LayoutModel",
            "_view_count": null,
            "_view_module": "@jupyter-widgets/base",
            "_view_module_version": "1.2.0",
            "_view_name": "LayoutView",
            "align_content": null,
            "align_items": null,
            "align_self": null,
            "border": null,
            "bottom": null,
            "display": null,
            "flex": null,
            "flex_flow": null,
            "grid_area": null,
            "grid_auto_columns": null,
            "grid_auto_flow": null,
            "grid_auto_rows": null,
            "grid_column": null,
            "grid_gap": null,
            "grid_row": null,
            "grid_template_areas": null,
            "grid_template_columns": null,
            "grid_template_rows": null,
            "height": null,
            "justify_content": null,
            "justify_items": null,
            "left": null,
            "margin": null,
            "max_height": null,
            "max_width": null,
            "min_height": null,
            "min_width": null,
            "object_fit": null,
            "object_position": null,
            "order": null,
            "overflow": null,
            "overflow_x": null,
            "overflow_y": null,
            "padding": null,
            "right": null,
            "top": null,
            "visibility": null,
            "width": null
          }
        },
        "e475c6a444d94fc0a51fe4dd4bbb1f65": {
          "model_module": "@jupyter-widgets/controls",
          "model_name": "ProgressStyleModel",
          "model_module_version": "1.5.0",
          "state": {
            "_model_module": "@jupyter-widgets/controls",
            "_model_module_version": "1.5.0",
            "_model_name": "ProgressStyleModel",
            "_view_count": null,
            "_view_module": "@jupyter-widgets/base",
            "_view_module_version": "1.2.0",
            "_view_name": "StyleView",
            "bar_color": null,
            "description_width": ""
          }
        },
        "7dd439a15d53420baba74c6e3874d750": {
          "model_module": "@jupyter-widgets/base",
          "model_name": "LayoutModel",
          "model_module_version": "1.2.0",
          "state": {
            "_model_module": "@jupyter-widgets/base",
            "_model_module_version": "1.2.0",
            "_model_name": "LayoutModel",
            "_view_count": null,
            "_view_module": "@jupyter-widgets/base",
            "_view_module_version": "1.2.0",
            "_view_name": "LayoutView",
            "align_content": null,
            "align_items": null,
            "align_self": null,
            "border": null,
            "bottom": null,
            "display": null,
            "flex": null,
            "flex_flow": null,
            "grid_area": null,
            "grid_auto_columns": null,
            "grid_auto_flow": null,
            "grid_auto_rows": null,
            "grid_column": null,
            "grid_gap": null,
            "grid_row": null,
            "grid_template_areas": null,
            "grid_template_columns": null,
            "grid_template_rows": null,
            "height": null,
            "justify_content": null,
            "justify_items": null,
            "left": null,
            "margin": null,
            "max_height": null,
            "max_width": null,
            "min_height": null,
            "min_width": null,
            "object_fit": null,
            "object_position": null,
            "order": null,
            "overflow": null,
            "overflow_x": null,
            "overflow_y": null,
            "padding": null,
            "right": null,
            "top": null,
            "visibility": null,
            "width": null
          }
        },
        "d071700fd8174685a536d9e904aebe03": {
          "model_module": "@jupyter-widgets/controls",
          "model_name": "DescriptionStyleModel",
          "model_module_version": "1.5.0",
          "state": {
            "_model_module": "@jupyter-widgets/controls",
            "_model_module_version": "1.5.0",
            "_model_name": "DescriptionStyleModel",
            "_view_count": null,
            "_view_module": "@jupyter-widgets/base",
            "_view_module_version": "1.2.0",
            "_view_name": "StyleView",
            "description_width": ""
          }
        }
      }
    }
  },
  "nbformat": 4,
  "nbformat_minor": 0
}